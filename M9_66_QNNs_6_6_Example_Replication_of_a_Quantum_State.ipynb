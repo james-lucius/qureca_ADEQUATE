{
  "nbformat": 4,
  "nbformat_minor": 0,
  "metadata": {
    "colab": {
      "provenance": [],
      "include_colab_link": true
    },
    "kernelspec": {
      "name": "python3",
      "display_name": "Python 3"
    },
    "language_info": {
      "name": "python"
    }
  },
  "cells": [
    {
      "cell_type": "markdown",
      "metadata": {
        "id": "view-in-github",
        "colab_type": "text"
      },
      "source": [
        "<a href=\"https://colab.research.google.com/github/james-lucius/qureca_ADEQUATE/blob/main/M9_66_QNNs_6_6_Example_Replication_of_a_Quantum_State.ipynb\" target=\"_parent\"><img src=\"https://colab.research.google.com/assets/colab-badge.svg\" alt=\"Open In Colab\"/></a>"
      ]
    },
    {
      "cell_type": "markdown",
      "source": [
        "<img src=\"https://gitlab.com/qworld/qeducation/educational-materials/adequate-qbook1/raw/main/qworld/images/adq_1.png\" align=\"left\" width=450>"
      ],
      "metadata": {
        "id": "8fozsJF9WrTZ"
      }
    },
    {
      "cell_type": "markdown",
      "source": [
        "_prepared by Claudia Zendejas-Morales_"
      ],
      "metadata": {
        "id": "XmdLWP6ZGlGH"
      }
    },
    {
      "cell_type": "markdown",
      "source": [
        "## 6.6 Example: Replication of a Quantum State\n",
        "\n",
        "Let's look at a complete example using [PennyLane](https://pennylane.ai/).\n",
        "\n",
        "Our QGAN will replicate the state of a one-qubit, characterized by three angles; the generator will not have direct access to that quantum state.\n",
        "\n",
        "The dataset will consist of multiple copies of a one-qubit state, with the objective of training the generator to be able to prepare the same state (or one very close to it). What we'll be doing is very similar to [quantum state tomography](https://en.wikipedia.org/wiki/Quantum_tomography), which applies quantum operations and measurements to multiple copies of a state and reconstructs the original state from the results.\n",
        "\n",
        "On this occasion we will rely on [PyTorch](https://pytorch.org/) to train our QGAN."
      ],
      "metadata": {
        "id": "D0ki9YzpGpMP"
      }
    },
    {
      "cell_type": "markdown",
      "source": [
        "Setting up the environment:"
      ],
      "metadata": {
        "id": "X6JSoe1KRSgr"
      }
    },
    {
      "cell_type": "code",
      "source": [
        "!pip install pennylane==0.40.0 &> /dev/null   # use \"&> /dev/null\" so that the standard output of the installation is not displayed\n",
        "\n",
        "print(\"Setup completed\")"
      ],
      "metadata": {
        "colab": {
          "base_uri": "https://localhost:8080/"
        },
        "id": "iIzVKqzMRSEu",
        "outputId": "cfebd3ad-d779-497e-deaf-b9fe30322c9a"
      },
      "execution_count": null,
      "outputs": [
        {
          "output_type": "stream",
          "name": "stdout",
          "text": [
            "Setup completed\n"
          ]
        }
      ]
    },
    {
      "cell_type": "markdown",
      "source": [
        "Let's begin with some necessary imports and setting some seeds to make sure that our results are reproducible:"
      ],
      "metadata": {
        "id": "cjFeHYq1Dgxe"
      }
    },
    {
      "cell_type": "code",
      "source": [
        "import pennylane as qml\n",
        "import numpy as np\n",
        "\n",
        "import torch\n",
        "import torch.nn as nn\n",
        "\n",
        "seed = 1234\n",
        "np.random.seed(seed)\n",
        "torch.manual_seed(seed)"
      ],
      "metadata": {
        "id": "6siAAcm4DH3W",
        "colab": {
          "base_uri": "https://localhost:8080/"
        },
        "outputId": "57bafd5f-4e11-430b-ab97-aa2e7a0f2968"
      },
      "execution_count": null,
      "outputs": [
        {
          "output_type": "execute_result",
          "data": {
            "text/plain": [
              "<torch._C.Generator at 0x7e32023309f0>"
            ]
          },
          "metadata": {},
          "execution_count": 16
        }
      ]
    },
    {
      "cell_type": "markdown",
      "source": [
        "Let's construct the state $|\\psi_1\\rangle$ using the quantum gate $U3\\left(\\theta,\\phi,\\delta\\right)$, which allows us to create any one-qubit state; we will fix the values of the angles."
      ],
      "metadata": {
        "id": "9Dhh9gK69aEV"
      }
    },
    {
      "cell_type": "code",
      "source": [
        "theta = np.pi / 4\n",
        "phi = np.pi / 3\n",
        "delta = np.pi / 5\n",
        "\n",
        "\n",
        "def PrepareTrueState():\n",
        "  qml.U3(theta, phi, delta, wires=0)"
      ],
      "metadata": {
        "id": "-1lZNd516vLR"
      },
      "execution_count": null,
      "outputs": []
    },
    {
      "cell_type": "markdown",
      "source": [
        "Now, let's define the **Generator**, which will receive its own parameters or weights to be tuned; we'll use the same $U3$ gate since its fitting will only be for the state of a single qubit."
      ],
      "metadata": {
        "id": "CDDjJmaR-2zI"
      }
    },
    {
      "cell_type": "code",
      "source": [
        "def Generator(weights):\n",
        "    qml.U3(weights[0], weights[1], weights[2], wires=0)"
      ],
      "metadata": {
        "id": "055HRIe4-4hS"
      },
      "execution_count": null,
      "outputs": []
    },
    {
      "cell_type": "markdown",
      "source": [
        "To define the **Discriminator**, we will first create a **variational form**, which will be a variation of *two-local*. It also receives its own parameters or weights that will be sought to be fitted."
      ],
      "metadata": {
        "id": "IbAKIHbN_msI"
      }
    },
    {
      "cell_type": "code",
      "source": [
        "def disc_var_form(nqubits, weights, reps=1):\n",
        "\n",
        "  par = 0                                     # index for parameters\n",
        "\n",
        "  for rep in range(reps):                     # repeat 'reps' times\n",
        "\n",
        "    for q in range(nqubits):\n",
        "      qml.RX(weights[par], wires=q)\n",
        "      par += 1\n",
        "      qml.RY(weights[par], wires=q)\n",
        "      par += 1\n",
        "      qml.RZ(weights[par], wires=q)\n",
        "      par += 1\n",
        "    for i in range(nqubits - 1):\n",
        "      qml.CNOT(wires=[i, i + 1])\n",
        "\n",
        "  for q in range(nqubits):\n",
        "    qml.RX(weights[par], wires=q)\n",
        "    par += 1\n",
        "    qml.RY(weights[par], wires=q)\n",
        "    par += 1\n",
        "    qml.RZ(weights[par], wires=q)\n",
        "    par += 1"
      ],
      "metadata": {
        "id": "EDoiidn7_GcS"
      },
      "execution_count": null,
      "outputs": []
    },
    {
      "cell_type": "markdown",
      "source": [
        "Let's visualize the variational form for the case of `2` qubits and `2` repetitions:"
      ],
      "metadata": {
        "id": "ZFgbY4ZrEOPb"
      }
    },
    {
      "cell_type": "code",
      "source": [
        "fig, ax = qml.draw_mpl(disc_var_form, style='pennylane')(2, np.random.rand(18), 2)\n",
        "fig.set_size_inches(8.5, 1.8)\n",
        "fig.show()"
      ],
      "metadata": {
        "colab": {
          "base_uri": "https://localhost:8080/",
          "height": 217
        },
        "id": "O8dd89kdAk0M",
        "outputId": "ea083239-104a-4823-c73a-a3de68c2daf3"
      },
      "execution_count": null,
      "outputs": [
        {
          "output_type": "display_data",
          "data": {
            "text/plain": [
              "<Figure size 850x180 with 1 Axes>"
            ],
            "image/png": "[encoded data removed]"
          },
          "metadata": {}
        }
      ]
    },
    {
      "cell_type": "markdown",
      "source": [
        "Now let's create the Discriminator using the previous variational form, to which we will indicate `2` qubits and `3` repetitions:"
      ],
      "metadata": {
        "id": "kR55UwSsEjAw"
      }
    },
    {
      "cell_type": "code",
      "source": [
        "def Discriminator(weights):\n",
        "  disc_var_form(2, weights, reps=3)"
      ],
      "metadata": {
        "id": "x9IpibzpA3es"
      },
      "execution_count": null,
      "outputs": []
    },
    {
      "cell_type": "markdown",
      "source": [
        "For the classifier, we will need a measurement operation for which we will take the expectation value of $M=|0\\rangle\\langle 0|$ in the first qubit. Remember that this operator has associated eigenvalues of $1$ and $0$, which will help the Discriminator to interpret the state as \"real\" or \"fake,\" respectively."
      ],
      "metadata": {
        "id": "j5-WTA5NIXW-"
      }
    },
    {
      "cell_type": "code",
      "source": [
        "state0 = [[1], [0]]               # define state |0>\n",
        "\n",
        "M = state0 * np.conj(state0).T    # create matrix M = |0><0|"
      ],
      "metadata": {
        "id": "l5vUFPp9C4O9"
      },
      "execution_count": null,
      "outputs": []
    },
    {
      "cell_type": "markdown",
      "source": [
        "Now, we'll define two quantum nodes. The first will connect the generation of the true state $|\\psi_1\\rangle$ with the Discriminator. The second will connect the Generator with the Discriminator. This way, we can use the results from both nodes to calculate the loss."
      ],
      "metadata": {
        "id": "s3r7C8htJeI9"
      }
    },
    {
      "cell_type": "code",
      "source": [
        "dev = qml.device('default.qubit', wires=2)\n",
        "\n",
        "\n",
        "@qml.qnode(dev, interface=\"torch\", diff_method=\"backprop\")\n",
        "def true_discriminator(weights_dis):                            # QNode with the true state and the Discriminator\n",
        "\n",
        "  PrepareTrueState()\n",
        "  Discriminator(weights_dis)\n",
        "\n",
        "  return qml.expval(qml.Hermitian(M, wires=[0]))                # return the expectation value of M in the first qubit\n",
        "\n",
        "\n",
        "@qml.qnode(dev, interface=\"torch\", diff_method=\"backprop\")\n",
        "def generator_discriminator(weights_gen, weights_dis):          # QNode with the Generator and the Discriminator\n",
        "\n",
        "  Generator(weights_gen)\n",
        "  Discriminator(weights_dis)\n",
        "\n",
        "  return qml.expval(qml.Hermitian(M, wires=[0]))                # return the expectation value of M in the first qubit"
      ],
      "metadata": {
        "id": "5hQ4mH6UIu8O"
      },
      "execution_count": null,
      "outputs": []
    },
    {
      "cell_type": "markdown",
      "source": [
        "Note that since the Discriminator works with both qubits of our QGAN, we could have also used the expectation value of $M$ in the second qubit.\n",
        "\n",
        "$$$$"
      ],
      "metadata": {
        "id": "hXsBU0z0KnTv"
      }
    },
    {
      "cell_type": "markdown",
      "source": [
        "Our Discriminator needs to classify two data points: the true state $|\\psi_1\\rangle$ with a label of $1$ and the generated state $|\\psi_g\\rangle$ with a label of $0$. Recalling the binary cross-entropy loss function reviewed in section 6.3.1, we will then calculate:\n",
        "\n",
        "$$\n",
        "L_D \\;=\\; -\\tfrac12 \\Bigl(\\log \\bigl[D(\\lvert \\psi_1\\rangle)\\bigr] \\;+\\; \\log \\bigl[1 - D(\\lvert \\psi_g\\rangle)\\bigr]\\Bigr)\n",
        "$$"
      ],
      "metadata": {
        "id": "TYXj1fa6LfF4"
      }
    },
    {
      "cell_type": "code",
      "source": [
        "def discriminator_loss(weights_gen, weights_dis):\n",
        "\n",
        "  out_true = true_discriminator(weights_dis)                      # outcome of the discriminator with the true state\n",
        "\n",
        "  out_gen = generator_discriminator(weights_gen, weights_dis)     # outcome of the discriminator with a generated state\n",
        "\n",
        "  return -(torch.log(out_true) + torch.log(1 - out_gen))/2        # binary cross-entropy loss function value"
      ],
      "metadata": {
        "id": "v2jup2K5KJ2h"
      },
      "execution_count": null,
      "outputs": []
    },
    {
      "cell_type": "markdown",
      "source": [
        "Our Generator aims to fool the Discriminator. In Section 6.3.1, we also defined a reasonable loss function for the Generator:\n",
        "\n",
        "$$\n",
        "L_G \\;=\\; - \\log \\bigl[D(\\lvert \\psi_g\\rangle)\\bigr]\n",
        "$$"
      ],
      "metadata": {
        "id": "rOVRG9O1NEJE"
      }
    },
    {
      "cell_type": "code",
      "source": [
        "def generator_loss(weights_gen, weights_dis):\n",
        "\n",
        "  out_gen = generator_discriminator(weights_gen, weights_dis)     # outcome of the discriminator with a generated state\n",
        "\n",
        "  return -torch.log(out_gen)                                      # binary cross-entropy loss function value when tasked to classify the true state"
      ],
      "metadata": {
        "id": "GtCEqT-_MUyP"
      },
      "execution_count": null,
      "outputs": []
    },
    {
      "cell_type": "markdown",
      "source": [
        "Let's prepare what is necessary for the training process:"
      ],
      "metadata": {
        "id": "7Q-pLySsPzcU"
      }
    },
    {
      "cell_type": "code",
      "source": [
        "weights_gen = torch.rand(3, requires_grad=True)                 # initialization of the weights for the Generator\n",
        "                                                                # 3 weights are needed because there are 3 angles to fit\n",
        "                                                                # requires_grad indicates that PyTorch will be able to calculate gradients for these parameters\n",
        "\n",
        "weights_dis = torch.rand((3 + 1) * 2 * 3, requires_grad=True)   # initialization of the weights for the Discriminator\n",
        "                                                                # 3+1 groups of parameterized gates with 3 parameters are needed in each of the 2 qubits\n",
        "\n",
        "\n",
        "\n",
        "opt_gen = torch.optim.SGD([weights_gen], lr=0.5)                # optimizer for the Generator, use Stochastic Gradient Descent\n",
        "\n",
        "opt_dis = torch.optim.SGD([weights_dis], lr=0.5)                # optimizer for the Discriminator, use Stochastic Gradient Descent"
      ],
      "metadata": {
        "id": "RT6UsBSuN0Uv"
      },
      "execution_count": null,
      "outputs": []
    },
    {
      "cell_type": "markdown",
      "source": [
        "Let's run the training process:"
      ],
      "metadata": {
        "id": "nbSQopxBRy8v"
      }
    },
    {
      "cell_type": "code",
      "source": [
        "dis_losses = []                                                   # Discriminator losses history\n",
        "gen_losses = []                                                   # Generator losses history\n",
        "log_weights = []                                                  # Generator weights history\n",
        "\n",
        "epochs = 150                                                      # number of epochs\n",
        "\n",
        "for i in range(epochs):\n",
        "                                                                  # train the Discriminator\n",
        "  opt_dis.zero_grad()                                             # reset the Discriminator optimizer\n",
        "  lossd = discriminator_loss(weights_gen.detach(), weights_dis)   # calculate the Discriminator loss\n",
        "                                                                  #   use 'detach' to remove the need to compute gradients for the Generator weights\n",
        "                                                                  #   because the Discriminator optimizer won't touch them\n",
        "  lossd.backward()                                                # backpropagate the Discriminator loss (calculate the gradients of the calculated loss)\n",
        "  opt_dis.step()                                                  # update the Discriminator weights (run a step of the Discriminator optimizer)\n",
        "\n",
        "                                                                  # train the Generator\n",
        "  opt_gen.zero_grad()                                             # reset the Generator optimizer\n",
        "  lossg = generator_loss(weights_gen, weights_dis.detach())       # calculate the Generator loss\n",
        "                                                                  #   use 'detach' to remove the need to compute gradients for the Discriminator weights\n",
        "                                                                  #   because the Generator optimizer won't touch them\n",
        "  lossg.backward()                                                # backpropagate the Generator loss (calculate the gradients of the calculated loss)\n",
        "  opt_gen.step()                                                  # update the Generator weights (run a step of the Generator optimizer)\n",
        "\n",
        "  lossd = float(lossd)                                            # store the histopry of losses and weights\n",
        "  lossg = float(lossg)\n",
        "  dis_losses.append(lossd)\n",
        "  gen_losses.append(lossg)\n",
        "  log_weights.append(weights_gen.detach().clone().numpy())        # use 'clone' to store a copy of the weights at that iteration and not a reference to the weights tensor\n",
        "\n",
        "  if (np.mod((i+1), 15) == 0):                                    # print the losses every 15 epochs\n",
        "    print(\"Epoch\", i+1, end= \" \")\n",
        "    print(\"| Discriminator loss:\", round(lossd, 4), end=\" \")\n",
        "    print(\"| Generator loss:\", round(lossg, 4))"
      ],
      "metadata": {
        "colab": {
          "base_uri": "https://localhost:8080/"
        },
        "id": "b6brWDTERwOF",
        "outputId": "ba04aaa6-84be-42d4-ef5f-2f1305915964"
      },
      "execution_count": null,
      "outputs": [
        {
          "output_type": "stream",
          "name": "stdout",
          "text": [
            "Epoch 15 | Discriminator loss: 0.6701 | Generator loss: 0.7065\n",
            "Epoch 30 | Discriminator loss: 0.6987 | Generator loss: 0.6791\n",
            "Epoch 45 | Discriminator loss: 0.6931 | Generator loss: 0.6992\n",
            "Epoch 60 | Discriminator loss: 0.6931 | Generator loss: 0.6924\n",
            "Epoch 75 | Discriminator loss: 0.6932 | Generator loss: 0.6927\n",
            "Epoch 90 | Discriminator loss: 0.6931 | Generator loss: 0.6934\n",
            "Epoch 105 | Discriminator loss: 0.6931 | Generator loss: 0.6931\n",
            "Epoch 120 | Discriminator loss: 0.6931 | Generator loss: 0.6931\n",
            "Epoch 135 | Discriminator loss: 0.6931 | Generator loss: 0.6932\n",
            "Epoch 150 | Discriminator loss: 0.6931 | Generator loss: 0.6931\n"
          ]
        }
      ]
    },
    {
      "cell_type": "markdown",
      "source": [
        "We observe that both the Discriminator and Generator losses are close to $-\\log\\tfrac12$, which means there's a good chance the training was successful, as mentioned in section 6.1.1.\n",
        "\n",
        "Let's use the historical data to plot the evolution of the training process:"
      ],
      "metadata": {
        "id": "pUG4JkTxWEVD"
      }
    },
    {
      "cell_type": "code",
      "source": [
        "import matplotlib.pyplot as plt\n",
        "\n",
        "plt.figure(figsize=(7, 4))\n",
        "epochs = np.array(range(len(gen_losses))) + 1\n",
        "plt.plot(epochs, gen_losses, label = \"Generator loss\")\n",
        "plt.plot(epochs, dis_losses, label = \"Discriminator loss\")\n",
        "plt.ylabel(\"Loss\")\n",
        "plt.xlabel(\"Iteration\")\n",
        "plt.legend()\n",
        "plt.show()"
      ],
      "metadata": {
        "colab": {
          "base_uri": "https://localhost:8080/",
          "height": 390
        },
        "id": "sbv_OaEEVdKp",
        "outputId": "45df1842-917b-450b-9e31-27b4ee51fe5c"
      },
      "execution_count": null,
      "outputs": [
        {
          "output_type": "display_data",
          "data": {
            "text/plain": [
              "<Figure size 700x400 with 1 Axes>"
            ],
            "image/png": "[encoded data removed]"
          },
          "metadata": {}
        }
      ]
    },
    {
      "cell_type": "markdown",
      "source": [
        "Let's see if our QGAN learned what we wanted it to do. Our training will be successful if the state returned by the Generator is close to the true state $|\\psi_1\\rangle$.\n",
        "\n",
        "We are going to measure the expectation values of the three Pauli matrices $X$, $Y$ and $Z$, which will tell us the state of a qubit with respect to its Bloch sphere coordinates, respectively.\n",
        "\n",
        "To find these expectation values, we will create two quantum nodes that will return these measurements; one for the true state $|\\psi_1\\rangle$ and the other for the state returned by the trained Generator."
      ],
      "metadata": {
        "id": "cC6gC6FJZSJt"
      }
    },
    {
      "cell_type": "code",
      "source": [
        "@qml.qnode(dev, interface=\"torch\")\n",
        "def generated_coordinates(weights_gen):\n",
        "\n",
        "  Generator(weights_gen)                    # get the state given by the Generator with the trained weights\n",
        "  return [qml.expval(qml.PauliX(0)),        # return the Bloch sphere coordinates\n",
        "          qml.expval(qml.PauliY(0)),\n",
        "          qml.expval(qml.PauliZ(0))]\n",
        "\n",
        "\n",
        "\n",
        "@qml.qnode(dev, interface=\"torch\")\n",
        "def true_coordinates():\n",
        "\n",
        "  PrepareTrueState()                        # get the true state\n",
        "  return [qml.expval(qml.PauliX(0)),        # return the Bloch sphere coordinates\n",
        "          qml.expval(qml.PauliY(0)),\n",
        "          qml.expval(qml.PauliZ(0))]\n",
        "\n",
        "\n",
        "psi_g = generated_coordinates(weights_gen)\n",
        "psi_1 = true_coordinates()\n",
        "print(\"Bloch coordinates\")\n",
        "print(f\"-Generated:\\t{psi_g[0]:.6f}\\t{psi_g[1]:.6f}\\t{psi_g[2]:.6f}\")\n",
        "print(f\"-True:     \\t{psi_1[0]:.6f}\\t{psi_1[1]:.6f}\\t{psi_1[2]:.6f}\")"
      ],
      "metadata": {
        "colab": {
          "base_uri": "https://localhost:8080/"
        },
        "id": "K_s2JYl0Yd_x",
        "outputId": "662af6b0-181e-4757-9d6c-a2dcb765d584"
      },
      "execution_count": null,
      "outputs": [
        {
          "output_type": "stream",
          "name": "stdout",
          "text": [
            "Bloch coordinates\n",
            "-Generated:\t0.353542\t0.612376\t0.707109\n",
            "-True:     \t0.353553\t0.612372\t0.707107\n"
          ]
        }
      ]
    },
    {
      "cell_type": "markdown",
      "source": [
        "The coordinate values of both states are really close, we can say that the QGAN did its job successfully."
      ],
      "metadata": {
        "id": "-Ir-7cYddogq"
      }
    },
    {
      "cell_type": "markdown",
      "source": [
        "Let's review how the state provided by the Generator evolved during training. Let's show the plots comparing the states (true and generated) in different training iterations."
      ],
      "metadata": {
        "id": "OQaBAJ67eDSR"
      }
    },
    {
      "cell_type": "code",
      "source": [
        "true_coords = true_coordinates()                                            # get the coordinates of the true state once\n",
        "\n",
        "\n",
        "def plot_coordinates(ax, iteration):\n",
        "\n",
        "  generated_coords = generated_coordinates(log_weights[iteration - 1])      # get the coordinates of the generated state for the indicated iteration\n",
        "\n",
        "  labels = [\"X\", \"Y\", \"Z\"]\n",
        "  x = np.arange(len(labels))\n",
        "  width = 0.35\n",
        "\n",
        "  ax.bar(x - width/2, true_coords, width,                                   # plot the true coordinates\n",
        "          color=\"#FF8000\", label=\"True\")\n",
        "  ax.bar(x + width/2, generated_coords, width,                              # plot the generated coordinates\n",
        "          color=\"#4C1F7A\", label=\"Generated\")\n",
        "\n",
        "  ax.set_xticks(x)\n",
        "  ax.set_xticklabels(labels)\n",
        "  ax.set_title(f\"Training iteration {iteration}\")\n",
        "  ax.legend(fontsize=7)\n",
        "\n",
        "\n",
        "\n",
        "\n",
        "its = [1, 25, 50, 75, 100, 150]                                             # display information from these 6 iterations\n",
        "\n",
        "fig, axes = plt.subplots(3, 2, figsize=(6.1, 6.5))                          # display all 6 plots at once\n",
        "\n",
        "for i in range(6):\n",
        "\n",
        "  row = i // 2                                                              # calculate position [row, col] for each plot\n",
        "  col = i % 2\n",
        "\n",
        "  plot_coordinates(axes[row, col], its[i])                                  # call plot_coordinates with the corresponding axis and the desired iteration\n",
        "\n",
        "\n",
        "plt.tight_layout()                                                          # adjust spaces so that titles/legends do not overlap\n",
        "plt.show()\n"
      ],
      "metadata": {
        "colab": {
          "base_uri": "https://localhost:8080/",
          "height": 657
        },
        "id": "k3JLq3jjcLI4",
        "outputId": "aa7876eb-cdde-40a7-d555-263dd4d228c7"
      },
      "execution_count": null,
      "outputs": [
        {
          "output_type": "display_data",
          "data": {
            "text/plain": [
              "<Figure size 610x650 with 6 Axes>"
            ],
            "image/png": "[encoded data removed]"
          },
          "metadata": {}
        }
      ]
    }
  ]
}